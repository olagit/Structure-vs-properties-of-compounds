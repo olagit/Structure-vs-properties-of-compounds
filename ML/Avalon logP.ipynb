{
 "cells": [
  {
   "cell_type": "code",
   "execution_count": 1,
   "metadata": {},
   "outputs": [],
   "source": [
    "import pandas as pd\n",
    "import sys\n",
    "sys.path.append('/usr/local/lib/python3.7/site-packages/')\n",
    "import torch\n",
    "import numpy as np\n",
    "import matplotlib.pyplot as plt"
   ]
  },
  {
   "cell_type": "code",
   "execution_count": 2,
   "metadata": {},
   "outputs": [],
   "source": [
    "urlav = \"https://raw.githubusercontent.com/olagit/Structure-vs-properties-of-compounds/main/data/Avalon.csv\"\n",
    "avalon = pd.read_csv(urlav)"
   ]
  },
  {
   "cell_type": "code",
   "execution_count": 3,
   "metadata": {},
   "outputs": [
    {
     "data": {
      "text/html": [
       "<div>\n",
       "<style scoped>\n",
       "    .dataframe tbody tr th:only-of-type {\n",
       "        vertical-align: middle;\n",
       "    }\n",
       "\n",
       "    .dataframe tbody tr th {\n",
       "        vertical-align: top;\n",
       "    }\n",
       "\n",
       "    .dataframe thead th {\n",
       "        text-align: right;\n",
       "    }\n",
       "</style>\n",
       "<table border=\"1\" class=\"dataframe\">\n",
       "  <thead>\n",
       "    <tr style=\"text-align: right;\">\n",
       "      <th></th>\n",
       "      <th>logP</th>\n",
       "      <th>fp0</th>\n",
       "      <th>fp1</th>\n",
       "      <th>fp2</th>\n",
       "      <th>fp3</th>\n",
       "      <th>fp4</th>\n",
       "      <th>fp5</th>\n",
       "      <th>fp6</th>\n",
       "      <th>fp7</th>\n",
       "      <th>fp8</th>\n",
       "      <th>...</th>\n",
       "      <th>fp502</th>\n",
       "      <th>fp503</th>\n",
       "      <th>fp504</th>\n",
       "      <th>fp505</th>\n",
       "      <th>fp506</th>\n",
       "      <th>fp507</th>\n",
       "      <th>fp508</th>\n",
       "      <th>fp509</th>\n",
       "      <th>fp510</th>\n",
       "      <th>fp511</th>\n",
       "    </tr>\n",
       "  </thead>\n",
       "  <tbody>\n",
       "    <tr>\n",
       "      <th>0</th>\n",
       "      <td>-0.770</td>\n",
       "      <td>0</td>\n",
       "      <td>0</td>\n",
       "      <td>0</td>\n",
       "      <td>0</td>\n",
       "      <td>1</td>\n",
       "      <td>0</td>\n",
       "      <td>0</td>\n",
       "      <td>0</td>\n",
       "      <td>1</td>\n",
       "      <td>...</td>\n",
       "      <td>1</td>\n",
       "      <td>0</td>\n",
       "      <td>0</td>\n",
       "      <td>0</td>\n",
       "      <td>0</td>\n",
       "      <td>0</td>\n",
       "      <td>0</td>\n",
       "      <td>0</td>\n",
       "      <td>0</td>\n",
       "      <td>0</td>\n",
       "    </tr>\n",
       "    <tr>\n",
       "      <th>1</th>\n",
       "      <td>-3.300</td>\n",
       "      <td>0</td>\n",
       "      <td>0</td>\n",
       "      <td>0</td>\n",
       "      <td>0</td>\n",
       "      <td>0</td>\n",
       "      <td>1</td>\n",
       "      <td>0</td>\n",
       "      <td>0</td>\n",
       "      <td>1</td>\n",
       "      <td>...</td>\n",
       "      <td>0</td>\n",
       "      <td>0</td>\n",
       "      <td>1</td>\n",
       "      <td>1</td>\n",
       "      <td>0</td>\n",
       "      <td>1</td>\n",
       "      <td>0</td>\n",
       "      <td>0</td>\n",
       "      <td>0</td>\n",
       "      <td>0</td>\n",
       "    </tr>\n",
       "    <tr>\n",
       "      <th>2</th>\n",
       "      <td>-2.060</td>\n",
       "      <td>0</td>\n",
       "      <td>0</td>\n",
       "      <td>0</td>\n",
       "      <td>0</td>\n",
       "      <td>0</td>\n",
       "      <td>0</td>\n",
       "      <td>0</td>\n",
       "      <td>0</td>\n",
       "      <td>0</td>\n",
       "      <td>...</td>\n",
       "      <td>0</td>\n",
       "      <td>0</td>\n",
       "      <td>0</td>\n",
       "      <td>0</td>\n",
       "      <td>0</td>\n",
       "      <td>0</td>\n",
       "      <td>0</td>\n",
       "      <td>0</td>\n",
       "      <td>0</td>\n",
       "      <td>0</td>\n",
       "    </tr>\n",
       "    <tr>\n",
       "      <th>3</th>\n",
       "      <td>-7.870</td>\n",
       "      <td>0</td>\n",
       "      <td>0</td>\n",
       "      <td>0</td>\n",
       "      <td>0</td>\n",
       "      <td>0</td>\n",
       "      <td>0</td>\n",
       "      <td>0</td>\n",
       "      <td>1</td>\n",
       "      <td>0</td>\n",
       "      <td>...</td>\n",
       "      <td>1</td>\n",
       "      <td>0</td>\n",
       "      <td>0</td>\n",
       "      <td>0</td>\n",
       "      <td>0</td>\n",
       "      <td>0</td>\n",
       "      <td>0</td>\n",
       "      <td>0</td>\n",
       "      <td>0</td>\n",
       "      <td>0</td>\n",
       "    </tr>\n",
       "    <tr>\n",
       "      <th>4</th>\n",
       "      <td>-1.330</td>\n",
       "      <td>1</td>\n",
       "      <td>0</td>\n",
       "      <td>0</td>\n",
       "      <td>0</td>\n",
       "      <td>0</td>\n",
       "      <td>0</td>\n",
       "      <td>0</td>\n",
       "      <td>0</td>\n",
       "      <td>0</td>\n",
       "      <td>...</td>\n",
       "      <td>0</td>\n",
       "      <td>0</td>\n",
       "      <td>0</td>\n",
       "      <td>1</td>\n",
       "      <td>0</td>\n",
       "      <td>1</td>\n",
       "      <td>0</td>\n",
       "      <td>0</td>\n",
       "      <td>0</td>\n",
       "      <td>0</td>\n",
       "    </tr>\n",
       "    <tr>\n",
       "      <th>...</th>\n",
       "      <td>...</td>\n",
       "      <td>...</td>\n",
       "      <td>...</td>\n",
       "      <td>...</td>\n",
       "      <td>...</td>\n",
       "      <td>...</td>\n",
       "      <td>...</td>\n",
       "      <td>...</td>\n",
       "      <td>...</td>\n",
       "      <td>...</td>\n",
       "      <td>...</td>\n",
       "      <td>...</td>\n",
       "      <td>...</td>\n",
       "      <td>...</td>\n",
       "      <td>...</td>\n",
       "      <td>...</td>\n",
       "      <td>...</td>\n",
       "      <td>...</td>\n",
       "      <td>...</td>\n",
       "      <td>...</td>\n",
       "      <td>...</td>\n",
       "    </tr>\n",
       "    <tr>\n",
       "      <th>1123</th>\n",
       "      <td>-1.710</td>\n",
       "      <td>0</td>\n",
       "      <td>0</td>\n",
       "      <td>0</td>\n",
       "      <td>0</td>\n",
       "      <td>0</td>\n",
       "      <td>0</td>\n",
       "      <td>0</td>\n",
       "      <td>1</td>\n",
       "      <td>0</td>\n",
       "      <td>...</td>\n",
       "      <td>0</td>\n",
       "      <td>0</td>\n",
       "      <td>0</td>\n",
       "      <td>1</td>\n",
       "      <td>0</td>\n",
       "      <td>0</td>\n",
       "      <td>1</td>\n",
       "      <td>0</td>\n",
       "      <td>0</td>\n",
       "      <td>0</td>\n",
       "    </tr>\n",
       "    <tr>\n",
       "      <th>1124</th>\n",
       "      <td>0.106</td>\n",
       "      <td>0</td>\n",
       "      <td>0</td>\n",
       "      <td>0</td>\n",
       "      <td>0</td>\n",
       "      <td>0</td>\n",
       "      <td>0</td>\n",
       "      <td>0</td>\n",
       "      <td>0</td>\n",
       "      <td>0</td>\n",
       "      <td>...</td>\n",
       "      <td>0</td>\n",
       "      <td>0</td>\n",
       "      <td>1</td>\n",
       "      <td>1</td>\n",
       "      <td>0</td>\n",
       "      <td>0</td>\n",
       "      <td>0</td>\n",
       "      <td>0</td>\n",
       "      <td>1</td>\n",
       "      <td>0</td>\n",
       "    </tr>\n",
       "    <tr>\n",
       "      <th>1125</th>\n",
       "      <td>-3.091</td>\n",
       "      <td>1</td>\n",
       "      <td>1</td>\n",
       "      <td>1</td>\n",
       "      <td>1</td>\n",
       "      <td>0</td>\n",
       "      <td>0</td>\n",
       "      <td>0</td>\n",
       "      <td>1</td>\n",
       "      <td>0</td>\n",
       "      <td>...</td>\n",
       "      <td>1</td>\n",
       "      <td>0</td>\n",
       "      <td>0</td>\n",
       "      <td>0</td>\n",
       "      <td>0</td>\n",
       "      <td>0</td>\n",
       "      <td>0</td>\n",
       "      <td>0</td>\n",
       "      <td>0</td>\n",
       "      <td>0</td>\n",
       "    </tr>\n",
       "    <tr>\n",
       "      <th>1126</th>\n",
       "      <td>-3.180</td>\n",
       "      <td>0</td>\n",
       "      <td>0</td>\n",
       "      <td>0</td>\n",
       "      <td>0</td>\n",
       "      <td>0</td>\n",
       "      <td>0</td>\n",
       "      <td>0</td>\n",
       "      <td>0</td>\n",
       "      <td>0</td>\n",
       "      <td>...</td>\n",
       "      <td>0</td>\n",
       "      <td>0</td>\n",
       "      <td>0</td>\n",
       "      <td>0</td>\n",
       "      <td>0</td>\n",
       "      <td>0</td>\n",
       "      <td>0</td>\n",
       "      <td>0</td>\n",
       "      <td>0</td>\n",
       "      <td>0</td>\n",
       "    </tr>\n",
       "    <tr>\n",
       "      <th>1127</th>\n",
       "      <td>-4.522</td>\n",
       "      <td>0</td>\n",
       "      <td>1</td>\n",
       "      <td>0</td>\n",
       "      <td>0</td>\n",
       "      <td>0</td>\n",
       "      <td>0</td>\n",
       "      <td>0</td>\n",
       "      <td>0</td>\n",
       "      <td>0</td>\n",
       "      <td>...</td>\n",
       "      <td>0</td>\n",
       "      <td>0</td>\n",
       "      <td>1</td>\n",
       "      <td>0</td>\n",
       "      <td>0</td>\n",
       "      <td>0</td>\n",
       "      <td>0</td>\n",
       "      <td>0</td>\n",
       "      <td>0</td>\n",
       "      <td>0</td>\n",
       "    </tr>\n",
       "  </tbody>\n",
       "</table>\n",
       "<p>1128 rows × 513 columns</p>\n",
       "</div>"
      ],
      "text/plain": [
       "       logP  fp0  fp1  fp2  fp3  fp4  fp5  fp6  fp7  fp8  ...  fp502  fp503  \\\n",
       "0    -0.770    0    0    0    0    1    0    0    0    1  ...      1      0   \n",
       "1    -3.300    0    0    0    0    0    1    0    0    1  ...      0      0   \n",
       "2    -2.060    0    0    0    0    0    0    0    0    0  ...      0      0   \n",
       "3    -7.870    0    0    0    0    0    0    0    1    0  ...      1      0   \n",
       "4    -1.330    1    0    0    0    0    0    0    0    0  ...      0      0   \n",
       "...     ...  ...  ...  ...  ...  ...  ...  ...  ...  ...  ...    ...    ...   \n",
       "1123 -1.710    0    0    0    0    0    0    0    1    0  ...      0      0   \n",
       "1124  0.106    0    0    0    0    0    0    0    0    0  ...      0      0   \n",
       "1125 -3.091    1    1    1    1    0    0    0    1    0  ...      1      0   \n",
       "1126 -3.180    0    0    0    0    0    0    0    0    0  ...      0      0   \n",
       "1127 -4.522    0    1    0    0    0    0    0    0    0  ...      0      0   \n",
       "\n",
       "      fp504  fp505  fp506  fp507  fp508  fp509  fp510  fp511  \n",
       "0         0      0      0      0      0      0      0      0  \n",
       "1         1      1      0      1      0      0      0      0  \n",
       "2         0      0      0      0      0      0      0      0  \n",
       "3         0      0      0      0      0      0      0      0  \n",
       "4         0      1      0      1      0      0      0      0  \n",
       "...     ...    ...    ...    ...    ...    ...    ...    ...  \n",
       "1123      0      1      0      0      1      0      0      0  \n",
       "1124      1      1      0      0      0      0      1      0  \n",
       "1125      0      0      0      0      0      0      0      0  \n",
       "1126      0      0      0      0      0      0      0      0  \n",
       "1127      1      0      0      0      0      0      0      0  \n",
       "\n",
       "[1128 rows x 513 columns]"
      ]
     },
     "execution_count": 3,
     "metadata": {},
     "output_type": "execute_result"
    }
   ],
   "source": [
    "avalon = avalon.drop([\"index\", \"smiles\"], axis=1)\n",
    "avalon"
   ]
  },
  {
   "cell_type": "code",
   "execution_count": 4,
   "metadata": {},
   "outputs": [
    {
     "data": {
      "text/plain": [
       "torch.Size([1128, 512])"
      ]
     },
     "execution_count": 4,
     "metadata": {},
     "output_type": "execute_result"
    }
   ],
   "source": [
    "X = avalon.iloc[:,1:]\n",
    "y = avalon.iloc[:,0]\n",
    "X = torch.tensor(X.values)\n",
    "Y = torch.tensor(y.values)\n",
    "X.shape"
   ]
  },
  {
   "cell_type": "code",
   "execution_count": 6,
   "metadata": {
    "scrolled": true
   },
   "outputs": [
    {
     "name": "stdout",
     "output_type": "stream",
     "text": [
      "tensor([ -4.5540,  -1.7900,  -7.0100,  -5.1600,  -0.9200,  -1.6000,  -0.5100,\n",
      "         -4.6780,  -3.7850,  -8.0030,  -3.0100,  -1.8400,  -2.3300,   1.0200,\n",
      "         -1.9500,  -3.7700,  -1.7700,  -0.4000,  -1.9500,  -0.5000,  -0.6300,\n",
      "         -2.8430,  -6.1400,  -3.0800,   0.3200,  -6.8760,  -5.2400,  -8.0170,\n",
      "         -4.7000,  -3.8170,  -6.5230, -11.6000,  -1.4800,  -5.8900,  -3.0820,\n",
      "         -1.4580,   1.1440,  -3.9990,  -1.4700,  -3.1000,  -4.6500,  -2.4000,\n",
      "         -0.6670,   0.1060,  -3.8930,  -4.2100,  -1.6400,   0.7000,  -1.5500,\n",
      "         -4.4500,  -3.1500,  -2.3700,  -0.1400,  -4.3700,  -3.6700,  -4.2300,\n",
      "         -2.2660,  -4.7490,  -5.0300,  -2.0000,  -3.0900,  -2.1110,  -2.4900,\n",
      "         -4.8900,  -2.5700,  -6.4900,  -3.2390,  -5.1900,  -1.5000,  -4.7100,\n",
      "         -5.2700,  -1.0600,  -2.5500,  -4.6300,  -2.5900,  -3.0300,  -1.9600,\n",
      "          0.4500,  -2.3900,  -1.3400,  -3.7800,  -4.2100,  -3.6400,  -8.4000,\n",
      "         -2.1000,  -0.2800,  -2.2400,  -1.7420,  -2.1200,  -4.2600,  -2.6400,\n",
      "         -5.7520,  -7.2500,  -8.4900,  -4.8620,  -1.1100,  -1.6550,  -0.1000,\n",
      "         -4.0700,  -3.4010,  -5.3820,  -0.8300,  -2.9800,  -3.1900,  -2.6800,\n",
      "         -4.4400,  -4.6900,  -1.3000,  -1.8500,  -3.2460,  -4.5300,   0.6200,\n",
      "         -8.6990,   0.5230,  -2.8200,  -1.8030,   0.5400,  -2.9250,  -3.2600,\n",
      "         -7.3210,  -4.0460,  -2.0900,  -2.1480,  -1.9900,  -3.3700,  -7.2000,\n",
      "         -1.9900,  -5.5400,  -4.9250,  -1.8070,  -3.6580,  -7.2800,  -3.2900,\n",
      "         -3.5500,  -4.1300,  -3.2800,  -1.8500,  -7.3200,  -3.9300,  -1.7400,\n",
      "         -6.0100,  -2.5700,  -2.7660,  -0.2400,  -4.5400,  -4.4110,  -5.7200,\n",
      "         -2.0900,  -1.0400,  -2.9320,  -2.0300,   0.0200,  -1.9470,  -3.0100,\n",
      "         -4.5700,  -3.6300,  -7.2100,  -2.5800,  -5.1900,  -6.5700,  -3.0940,\n",
      "         -2.2300,  -6.3400,  -3.4080,   1.5800,   0.2800,   0.9600,   0.6510,\n",
      "         -2.4610,  -4.6400,  -2.3600,  -3.7540,  -4.6600,  -3.6600,  -4.1000,\n",
      "         -0.4900,  -2.8780,  -0.4000,  -0.0400,  -1.9600,  -2.5300,  -3.0300,\n",
      "         -3.3900,  -1.5200,  -1.3300,  -3.2400,  -1.4880,  -3.7400,  -5.4600,\n",
      "         -2.1300,  -3.3240,  -2.6800,  -0.8500,  -3.8400,  -4.7350,  -3.2200,\n",
      "         -4.8830,  -4.0000,   0.3000,  -4.3140,  -3.2700,  -4.1900,  -2.6300,\n",
      "         -5.0500,  -1.4600,  -6.3500,  -4.5710,  -5.6000,  -0.7900,  -4.4200,\n",
      "         -4.6000,  -0.0200,  -2.2100,  -2.4680,  -3.3000,  -5.9310,  -3.8000,\n",
      "         -6.1760,  -2.6700,  -2.3900,  -3.0300,  -5.0300,  -1.6000,  -5.2840,\n",
      "         -0.3640,  -3.6600,  -4.6900,  -2.6200,  -3.4300,  -2.8500,  -4.3800,\n",
      "         -3.8100,  -3.3500,  -1.6140,  -1.2900,  -3.0430,  -3.8500,  -3.5200,\n",
      "         -0.8500,  -4.4600,  -1.3600,  -4.7550,  -1.7200,  -0.8500,  -0.0300,\n",
      "         -5.5100,  -0.9600,  -5.8200,  -2.0800,  -3.8200,  -2.8900,  -2.8200,\n",
      "         -2.7300,  -1.8700,  -1.1700,  -0.7700,  -5.2330,  -3.4800,  -3.6800,\n",
      "         -4.1400,  -4.8800,  -0.7000,  -8.0100,  -2.4360,  -3.1800,  -4.6340,\n",
      "         -7.8000,  -3.6100,  -5.1600,  -1.6400,  -3.7600,  -1.6300,  -1.8000,\n",
      "         -5.1700,  -1.5500,  -6.0200,  -3.0600,  -4.0000,  -8.0570,  -1.4000,\n",
      "         -5.5600,  -0.1500,  -2.3100,  -1.3000,  -3.4600,  -4.5760,  -6.8900,\n",
      "         -2.5100,  -3.5830,  -3.3300,  -0.8800,  -3.5920,  -1.8000,  -0.4000,\n",
      "         -4.0400,  -1.4700,  -2.6400,  -1.2500,  -0.8000,  -4.0200,  -1.1100,\n",
      "         -0.4000,  -0.4200,  -4.7600,  -2.3400,  -7.0000,  -3.3800,  -1.1700,\n",
      "         -3.3900,  -2.7300,  -2.3600,  -2.6160,  -1.6000,  -1.7160,   0.3900,\n",
      "         -3.2000,  -4.3000,  -1.3300,  -2.9820,  -0.7300,  -1.6200,  -0.4100,\n",
      "         -2.4840,  -2.0160,  -6.4700,  -3.1300,  -1.9400,  -2.2800,  -2.3490,\n",
      "         -1.0400,  -3.6380,  -0.9500,  -0.6240,  -2.6800,  -1.6000,  -4.0600,\n",
      "         -6.3010,  -0.6200,  -6.9000,  -3.9550,  -5.2800,  -0.5500,  -4.5500,\n",
      "         -2.1600,  -2.4200,  -4.3700,  -3.6800,  -2.4000,  -8.6000,  -4.4320,\n",
      "         -1.7500,  -4.5940,  -3.5900,  -1.0100,  -4.8900,  -3.7300,  -5.2300,\n",
      "         -4.6790,  -2.6760,  -0.7000,  -3.5040,  -1.3000,  -2.5960,  -3.4000,\n",
      "         -3.5400,  -6.7260,  -4.8710,  -2.9200,  -5.6660,  -3.4500,  -0.6700,\n",
      "         -5.6600,  -1.9810,  -0.2900,   0.8100,  -3.6040,  -1.3000,  -3.0000,\n",
      "         -3.0400,  -3.4300,  -4.7700,   0.5100,  -3.6200,  -1.9800,  -2.2100,\n",
      "         -1.7300,  -4.1200,  -4.8800,  -3.8000,  -5.6960,  -3.4930,  -2.6100,\n",
      "         -1.8300,  -3.1500,  -0.2900,  -5.8500,   0.1500,  -5.6800,  -2.0770,\n",
      "         -0.1700,  -3.4600,  -4.5700,  -8.4020,  -2.6960,  -1.9200,  -4.1900,\n",
      "         -5.2100,  -2.3400,  -3.8800,  -6.1240,  -1.2900,  -5.0500,  -3.1400,\n",
      "         -0.8000,  -0.7200,  -7.9200,   0.3800,  -4.1200,  -1.7700,  -4.7400,\n",
      "         -2.8600,  -2.5930,  -1.0300,  -2.5400,  -0.7400,  -2.2500,  -5.2590,\n",
      "         -3.5380,  -5.0800,  -0.1900,  -2.6920,  -4.4020,  -6.3500,  -0.7420,\n",
      "         -6.0900,  -4.7990,  -4.1400,  -4.1140,  -0.6200,  -1.8200,  -2.0300,\n",
      "         -2.1200,  -2.4200,  -1.3900,  -2.7000,  -3.7700,  -1.4100,   0.7150,\n",
      "         -3.7300,  -2.1680,  -0.3100,  -2.9600,  -1.6600,  -2.6400,  -3.5000,\n",
      "         -1.1400,  -2.4040,  -6.3900,  -2.9000,  -5.1150,  -1.5900,  -4.3450,\n",
      "         -4.9200,  -2.6170,  -5.2400,  -2.3800,  -0.2400,  -1.5060,  -2.8000,\n",
      "         -4.4300,  -1.6800,  -8.3340,  -0.8070,  -2.0900,  -8.0400,  -1.3800,\n",
      "         -5.8800,   0.6100,   0.5200,  -6.6800,  -0.8000,  -1.8900,  -0.6000,\n",
      "         -6.2910,   0.9400,  -4.3800,  -5.8400,  -2.5900,  -0.6600,  -2.5400,\n",
      "         -4.7100,  -4.8000,  -1.0600,  -3.9000,  -1.9000,  -3.5400,  -2.2100,\n",
      "         -1.3000,  -0.1200,  -4.0600,  -6.0050,  -8.0000,  -3.6500,   1.1000,\n",
      "         -4.4300,  -4.0990,  -2.3500,  -7.4200,  -1.2300,  -1.2500,  -2.2810,\n",
      "         -5.3700,  -2.2100,  -4.3100,  -2.9300,  -4.2600,  -3.4000,  -0.4100,\n",
      "         -0.4400,  -1.8500,  -4.8000,  -4.1600,  -7.3900,  -2.0900,   0.1000,\n",
      "         -3.5860,  -4.1100,  -5.3500,  -1.3400,  -3.2100,  -2.3200,   0.3200,\n",
      "         -2.8100,  -1.6200,  -0.3900,  -3.0100,  -7.6800,  -4.9550,  -5.0600,\n",
      "         -3.0000,  -3.0210,  -4.8000,  -1.5200,  -2.5180,  -0.1800,  -2.3220,\n",
      "         -3.1680,  -3.9280,  -1.5600,  -0.9850,  -2.0900,  -0.9600,   0.5220,\n",
      "         -2.0000,  -2.0600,  -9.0180,  -4.7300,  -2.3560,  -5.4700,  -3.2200,\n",
      "         -0.6600,  -6.7800,  -2.1900,  -4.1100,  -5.2200,   1.0900,  -2.2730,\n",
      "         -1.8770,  -3.0800,  -1.7400,  -0.0920,  -2.6580,  -3.8500,  -2.7800,\n",
      "         -2.7400,  -1.7400,  -2.2530,  -3.3600,  -7.3370,  -5.6400,  -1.9950,\n",
      "         -1.9700,  -3.0400,  -3.0900,   0.4900,  -2.0500,  -1.8270,  -8.6000,\n",
      "         -3.8960,  -0.2200,  -5.6500,  -6.5700,  -7.8000,  -1.9600,  -8.9400,\n",
      "         -3.4800,  -2.3000,  -4.0000,  -1.2800,  -0.0900,  -0.8200,  -3.5100,\n",
      "         -2.4800,  -4.6400,  -5.4300,  -0.3600,  -4.0470,  -3.2240,  -4.2900,\n",
      "         -4.8600,  -5.9150,  -4.3700,  -1.9900,  -1.9600,  -1.4900,  -4.7430,\n",
      "          1.1000,  -1.9600,  -0.4100,   0.8500,  -7.9200,  -2.2900,  -6.9800,\n",
      "         -0.8000,  -3.3700,  -2.7700,  -1.5200,  -4.1730,  -1.2800,  -5.2100,\n",
      "         -1.1900,  -3.1100,  -4.4000,  -5.5300,  -3.5500,  -1.1300,  -2.6700,\n",
      "         -1.2600,  -4.2400,  -3.8400,  -4.7400,  -4.4800,  -1.3400,  -6.3400,\n",
      "         -4.8800,  -2.1700,  -2.5500,  -3.5900,  -0.9900,  -2.7300,  -1.4500,\n",
      "         -5.0000,  -2.8000,   0.3500,  -2.3800,  -2.5810,  -1.4400,  -8.5600,\n",
      "         -2.3500,  -3.7500,   0.4600,  -0.7700,  -4.2900,  -1.6400,  -2.3900,\n",
      "         -1.8990,  -6.2000,  -2.3500,  -2.5230,  -1.6000,  -4.8050,  -3.2100,\n",
      "         -2.3900,  -4.1500,  -5.4700,  -0.8300,  -1.1000,   0.5700,  -3.1710,\n",
      "         -0.8540,  -3.6800,  -4.0970,  -6.8000,  -2.8900,  -0.4600,  -4.9300,\n",
      "         -2.4100,  -2.2530,  -2.3380,  -5.8400,  -2.8310,  -4.3760,  -0.9100,\n",
      "         -1.0100,   0.5800,  -5.4600,  -0.5900,  -4.6200,  -4.1000,  -2.7700,\n",
      "         -4.2800,  -4.9000,   0.0000,  -3.2700,  -3.2700,  -1.9400,  -0.3600,\n",
      "         -1.3400,  -2.3370,   1.3400,  -1.1550,  -0.9000,  -6.0800,  -1.1600,\n",
      "         -7.2000,   0.3200,  -5.6130,  -1.2200,  -2.8630,  -5.8860,  -1.1700,\n",
      "         -9.1600,   0.6400,  -2.6000,  -5.0710,  -0.6000,   1.1100,  -0.9720,\n",
      "         -0.1200,  -8.4000,  -3.5700,  -4.2300,  -7.4300,  -5.4100,  -4.5700,\n",
      "         -0.6000,  -1.5400,  -7.3900,  -3.6000,  -4.1600,  -4.8730,  -1.7100,\n",
      "         -4.3600,  -0.8500,  -5.3600,  -2.2300,  -4.2500,  -1.6010,  -5.2700,\n",
      "         -6.2370,   0.7900,  -2.4300,  -2.1100,  -1.8500,  -1.6610,  -2.3400,\n",
      "          0.3800,  -4.0900,  -0.7200,   0.4800,  -3.2000,  -6.5900,  -3.3800,\n",
      "         -2.2900,  -3.1200,  -1.9900,  -3.4510,  -4.3600,  -8.7100,  -1.0800,\n",
      "         -3.5710,   0.0600,  -1.0600,  -3.2300,  -6.3070,  -5.1530,  -1.9200,\n",
      "         -6.5100,  -3.0500,  -2.9200,  -1.5700,  -4.1600,   0.4300,  -4.2860,\n",
      "          0.5800,  -3.3900,  -5.1900,  -4.3000,  -3.7000,  -3.7600])\n",
      "torch.DoubleTensor\n"
     ]
    },
    {
     "data": {
      "application/vnd.jupyter.widget-view+json": {
       "model_id": "",
       "version_major": 2,
       "version_minor": 0
      },
      "text/plain": [
       "HBox(children=(HTML(value=''), FloatProgress(value=0.0, max=50.0), HTML(value='')))"
      ]
     },
     "metadata": {},
     "output_type": "display_data"
    },
    {
     "data": {
      "application/vnd.jupyter.widget-view+json": {
       "model_id": "",
       "version_major": 2,
       "version_minor": 0
      },
      "text/plain": [
       "HBox(children=(HTML(value=''), FloatProgress(value=0.0, max=3.0), HTML(value='')))"
      ]
     },
     "metadata": {},
     "output_type": "display_data"
    },
    {
     "data": {
      "application/vnd.jupyter.widget-view+json": {
       "model_id": "",
       "version_major": 2,
       "version_minor": 0
      },
      "text/plain": [
       "HBox(children=(HTML(value=''), FloatProgress(value=0.0, max=3.0), HTML(value='')))"
      ]
     },
     "metadata": {},
     "output_type": "display_data"
    },
    {
     "data": {
      "application/vnd.jupyter.widget-view+json": {
       "model_id": "",
       "version_major": 2,
       "version_minor": 0
      },
      "text/plain": [
       "HBox(children=(HTML(value=''), FloatProgress(value=0.0, max=3.0), HTML(value='')))"
      ]
     },
     "metadata": {},
     "output_type": "display_data"
    },
    {
     "data": {
      "application/vnd.jupyter.widget-view+json": {
       "model_id": "",
       "version_major": 2,
       "version_minor": 0
      },
      "text/plain": [
       "HBox(children=(HTML(value=''), FloatProgress(value=0.0, max=3.0), HTML(value='')))"
      ]
     },
     "metadata": {},
     "output_type": "display_data"
    },
    {
     "data": {
      "application/vnd.jupyter.widget-view+json": {
       "model_id": "",
       "version_major": 2,
       "version_minor": 0
      },
      "text/plain": [
       "HBox(children=(HTML(value=''), FloatProgress(value=0.0, max=3.0), HTML(value='')))"
      ]
     },
     "metadata": {},
     "output_type": "display_data"
    },
    {
     "data": {
      "application/vnd.jupyter.widget-view+json": {
       "model_id": "",
       "version_major": 2,
       "version_minor": 0
      },
      "text/plain": [
       "HBox(children=(HTML(value=''), FloatProgress(value=0.0, max=3.0), HTML(value='')))"
      ]
     },
     "metadata": {},
     "output_type": "display_data"
    },
    {
     "data": {
      "application/vnd.jupyter.widget-view+json": {
       "model_id": "",
       "version_major": 2,
       "version_minor": 0
      },
      "text/plain": [
       "HBox(children=(HTML(value=''), FloatProgress(value=0.0, max=3.0), HTML(value='')))"
      ]
     },
     "metadata": {},
     "output_type": "display_data"
    },
    {
     "data": {
      "application/vnd.jupyter.widget-view+json": {
       "model_id": "",
       "version_major": 2,
       "version_minor": 0
      },
      "text/plain": [
       "HBox(children=(HTML(value=''), FloatProgress(value=0.0, max=3.0), HTML(value='')))"
      ]
     },
     "metadata": {},
     "output_type": "display_data"
    },
    {
     "data": {
      "application/vnd.jupyter.widget-view+json": {
       "model_id": "",
       "version_major": 2,
       "version_minor": 0
      },
      "text/plain": [
       "HBox(children=(HTML(value=''), FloatProgress(value=0.0, max=3.0), HTML(value='')))"
      ]
     },
     "metadata": {},
     "output_type": "display_data"
    },
    {
     "data": {
      "application/vnd.jupyter.widget-view+json": {
       "model_id": "",
       "version_major": 2,
       "version_minor": 0
      },
      "text/plain": [
       "HBox(children=(HTML(value=''), FloatProgress(value=0.0, max=3.0), HTML(value='')))"
      ]
     },
     "metadata": {},
     "output_type": "display_data"
    },
    {
     "data": {
      "application/vnd.jupyter.widget-view+json": {
       "model_id": "",
       "version_major": 2,
       "version_minor": 0
      },
      "text/plain": [
       "HBox(children=(HTML(value=''), FloatProgress(value=0.0, max=3.0), HTML(value='')))"
      ]
     },
     "metadata": {},
     "output_type": "display_data"
    },
    {
     "data": {
      "application/vnd.jupyter.widget-view+json": {
       "model_id": "",
       "version_major": 2,
       "version_minor": 0
      },
      "text/plain": [
       "HBox(children=(HTML(value=''), FloatProgress(value=0.0, max=3.0), HTML(value='')))"
      ]
     },
     "metadata": {},
     "output_type": "display_data"
    },
    {
     "data": {
      "application/vnd.jupyter.widget-view+json": {
       "model_id": "",
       "version_major": 2,
       "version_minor": 0
      },
      "text/plain": [
       "HBox(children=(HTML(value=''), FloatProgress(value=0.0, max=3.0), HTML(value='')))"
      ]
     },
     "metadata": {},
     "output_type": "display_data"
    },
    {
     "data": {
      "application/vnd.jupyter.widget-view+json": {
       "model_id": "",
       "version_major": 2,
       "version_minor": 0
      },
      "text/plain": [
       "HBox(children=(HTML(value=''), FloatProgress(value=0.0, max=3.0), HTML(value='')))"
      ]
     },
     "metadata": {},
     "output_type": "display_data"
    },
    {
     "data": {
      "application/vnd.jupyter.widget-view+json": {
       "model_id": "",
       "version_major": 2,
       "version_minor": 0
      },
      "text/plain": [
       "HBox(children=(HTML(value=''), FloatProgress(value=0.0, max=3.0), HTML(value='')))"
      ]
     },
     "metadata": {},
     "output_type": "display_data"
    },
    {
     "data": {
      "application/vnd.jupyter.widget-view+json": {
       "model_id": "",
       "version_major": 2,
       "version_minor": 0
      },
      "text/plain": [
       "HBox(children=(HTML(value=''), FloatProgress(value=0.0, max=3.0), HTML(value='')))"
      ]
     },
     "metadata": {},
     "output_type": "display_data"
    },
    {
     "data": {
      "application/vnd.jupyter.widget-view+json": {
       "model_id": "",
       "version_major": 2,
       "version_minor": 0
      },
      "text/plain": [
       "HBox(children=(HTML(value=''), FloatProgress(value=0.0, max=3.0), HTML(value='')))"
      ]
     },
     "metadata": {},
     "output_type": "display_data"
    },
    {
     "data": {
      "application/vnd.jupyter.widget-view+json": {
       "model_id": "",
       "version_major": 2,
       "version_minor": 0
      },
      "text/plain": [
       "HBox(children=(HTML(value=''), FloatProgress(value=0.0, max=3.0), HTML(value='')))"
      ]
     },
     "metadata": {},
     "output_type": "display_data"
    },
    {
     "data": {
      "application/vnd.jupyter.widget-view+json": {
       "model_id": "",
       "version_major": 2,
       "version_minor": 0
      },
      "text/plain": [
       "HBox(children=(HTML(value=''), FloatProgress(value=0.0, max=3.0), HTML(value='')))"
      ]
     },
     "metadata": {},
     "output_type": "display_data"
    },
    {
     "data": {
      "application/vnd.jupyter.widget-view+json": {
       "model_id": "",
       "version_major": 2,
       "version_minor": 0
      },
      "text/plain": [
       "HBox(children=(HTML(value=''), FloatProgress(value=0.0, max=3.0), HTML(value='')))"
      ]
     },
     "metadata": {},
     "output_type": "display_data"
    },
    {
     "data": {
      "application/vnd.jupyter.widget-view+json": {
       "model_id": "",
       "version_major": 2,
       "version_minor": 0
      },
      "text/plain": [
       "HBox(children=(HTML(value=''), FloatProgress(value=0.0, max=3.0), HTML(value='')))"
      ]
     },
     "metadata": {},
     "output_type": "display_data"
    },
    {
     "data": {
      "application/vnd.jupyter.widget-view+json": {
       "model_id": "",
       "version_major": 2,
       "version_minor": 0
      },
      "text/plain": [
       "HBox(children=(HTML(value=''), FloatProgress(value=0.0, max=3.0), HTML(value='')))"
      ]
     },
     "metadata": {},
     "output_type": "display_data"
    },
    {
     "data": {
      "application/vnd.jupyter.widget-view+json": {
       "model_id": "",
       "version_major": 2,
       "version_minor": 0
      },
      "text/plain": [
       "HBox(children=(HTML(value=''), FloatProgress(value=0.0, max=3.0), HTML(value='')))"
      ]
     },
     "metadata": {},
     "output_type": "display_data"
    },
    {
     "data": {
      "application/vnd.jupyter.widget-view+json": {
       "model_id": "",
       "version_major": 2,
       "version_minor": 0
      },
      "text/plain": [
       "HBox(children=(HTML(value=''), FloatProgress(value=0.0, max=3.0), HTML(value='')))"
      ]
     },
     "metadata": {},
     "output_type": "display_data"
    },
    {
     "data": {
      "application/vnd.jupyter.widget-view+json": {
       "model_id": "",
       "version_major": 2,
       "version_minor": 0
      },
      "text/plain": [
       "HBox(children=(HTML(value=''), FloatProgress(value=0.0, max=3.0), HTML(value='')))"
      ]
     },
     "metadata": {},
     "output_type": "display_data"
    },
    {
     "data": {
      "application/vnd.jupyter.widget-view+json": {
       "model_id": "",
       "version_major": 2,
       "version_minor": 0
      },
      "text/plain": [
       "HBox(children=(HTML(value=''), FloatProgress(value=0.0, max=3.0), HTML(value='')))"
      ]
     },
     "metadata": {},
     "output_type": "display_data"
    },
    {
     "data": {
      "application/vnd.jupyter.widget-view+json": {
       "model_id": "",
       "version_major": 2,
       "version_minor": 0
      },
      "text/plain": [
       "HBox(children=(HTML(value=''), FloatProgress(value=0.0, max=3.0), HTML(value='')))"
      ]
     },
     "metadata": {},
     "output_type": "display_data"
    },
    {
     "data": {
      "application/vnd.jupyter.widget-view+json": {
       "model_id": "",
       "version_major": 2,
       "version_minor": 0
      },
      "text/plain": [
       "HBox(children=(HTML(value=''), FloatProgress(value=0.0, max=3.0), HTML(value='')))"
      ]
     },
     "metadata": {},
     "output_type": "display_data"
    },
    {
     "data": {
      "application/vnd.jupyter.widget-view+json": {
       "model_id": "",
       "version_major": 2,
       "version_minor": 0
      },
      "text/plain": [
       "HBox(children=(HTML(value=''), FloatProgress(value=0.0, max=3.0), HTML(value='')))"
      ]
     },
     "metadata": {},
     "output_type": "display_data"
    },
    {
     "data": {
      "application/vnd.jupyter.widget-view+json": {
       "model_id": "",
       "version_major": 2,
       "version_minor": 0
      },
      "text/plain": [
       "HBox(children=(HTML(value=''), FloatProgress(value=0.0, max=3.0), HTML(value='')))"
      ]
     },
     "metadata": {},
     "output_type": "display_data"
    },
    {
     "data": {
      "application/vnd.jupyter.widget-view+json": {
       "model_id": "",
       "version_major": 2,
       "version_minor": 0
      },
      "text/plain": [
       "HBox(children=(HTML(value=''), FloatProgress(value=0.0, max=3.0), HTML(value='')))"
      ]
     },
     "metadata": {},
     "output_type": "display_data"
    },
    {
     "data": {
      "application/vnd.jupyter.widget-view+json": {
       "model_id": "",
       "version_major": 2,
       "version_minor": 0
      },
      "text/plain": [
       "HBox(children=(HTML(value=''), FloatProgress(value=0.0, max=3.0), HTML(value='')))"
      ]
     },
     "metadata": {},
     "output_type": "display_data"
    },
    {
     "data": {
      "application/vnd.jupyter.widget-view+json": {
       "model_id": "",
       "version_major": 2,
       "version_minor": 0
      },
      "text/plain": [
       "HBox(children=(HTML(value=''), FloatProgress(value=0.0, max=3.0), HTML(value='')))"
      ]
     },
     "metadata": {},
     "output_type": "display_data"
    },
    {
     "data": {
      "application/vnd.jupyter.widget-view+json": {
       "model_id": "",
       "version_major": 2,
       "version_minor": 0
      },
      "text/plain": [
       "HBox(children=(HTML(value=''), FloatProgress(value=0.0, max=3.0), HTML(value='')))"
      ]
     },
     "metadata": {},
     "output_type": "display_data"
    },
    {
     "data": {
      "application/vnd.jupyter.widget-view+json": {
       "model_id": "",
       "version_major": 2,
       "version_minor": 0
      },
      "text/plain": [
       "HBox(children=(HTML(value=''), FloatProgress(value=0.0, max=3.0), HTML(value='')))"
      ]
     },
     "metadata": {},
     "output_type": "display_data"
    },
    {
     "data": {
      "application/vnd.jupyter.widget-view+json": {
       "model_id": "",
       "version_major": 2,
       "version_minor": 0
      },
      "text/plain": [
       "HBox(children=(HTML(value=''), FloatProgress(value=0.0, max=3.0), HTML(value='')))"
      ]
     },
     "metadata": {},
     "output_type": "display_data"
    },
    {
     "data": {
      "application/vnd.jupyter.widget-view+json": {
       "model_id": "",
       "version_major": 2,
       "version_minor": 0
      },
      "text/plain": [
       "HBox(children=(HTML(value=''), FloatProgress(value=0.0, max=3.0), HTML(value='')))"
      ]
     },
     "metadata": {},
     "output_type": "display_data"
    },
    {
     "data": {
      "application/vnd.jupyter.widget-view+json": {
       "model_id": "",
       "version_major": 2,
       "version_minor": 0
      },
      "text/plain": [
       "HBox(children=(HTML(value=''), FloatProgress(value=0.0, max=3.0), HTML(value='')))"
      ]
     },
     "metadata": {},
     "output_type": "display_data"
    },
    {
     "data": {
      "application/vnd.jupyter.widget-view+json": {
       "model_id": "",
       "version_major": 2,
       "version_minor": 0
      },
      "text/plain": [
       "HBox(children=(HTML(value=''), FloatProgress(value=0.0, max=3.0), HTML(value='')))"
      ]
     },
     "metadata": {},
     "output_type": "display_data"
    },
    {
     "data": {
      "application/vnd.jupyter.widget-view+json": {
       "model_id": "",
       "version_major": 2,
       "version_minor": 0
      },
      "text/plain": [
       "HBox(children=(HTML(value=''), FloatProgress(value=0.0, max=3.0), HTML(value='')))"
      ]
     },
     "metadata": {},
     "output_type": "display_data"
    },
    {
     "data": {
      "application/vnd.jupyter.widget-view+json": {
       "model_id": "",
       "version_major": 2,
       "version_minor": 0
      },
      "text/plain": [
       "HBox(children=(HTML(value=''), FloatProgress(value=0.0, max=3.0), HTML(value='')))"
      ]
     },
     "metadata": {},
     "output_type": "display_data"
    },
    {
     "data": {
      "application/vnd.jupyter.widget-view+json": {
       "model_id": "",
       "version_major": 2,
       "version_minor": 0
      },
      "text/plain": [
       "HBox(children=(HTML(value=''), FloatProgress(value=0.0, max=3.0), HTML(value='')))"
      ]
     },
     "metadata": {},
     "output_type": "display_data"
    },
    {
     "data": {
      "application/vnd.jupyter.widget-view+json": {
       "model_id": "",
       "version_major": 2,
       "version_minor": 0
      },
      "text/plain": [
       "HBox(children=(HTML(value=''), FloatProgress(value=0.0, max=3.0), HTML(value='')))"
      ]
     },
     "metadata": {},
     "output_type": "display_data"
    },
    {
     "data": {
      "application/vnd.jupyter.widget-view+json": {
       "model_id": "",
       "version_major": 2,
       "version_minor": 0
      },
      "text/plain": [
       "HBox(children=(HTML(value=''), FloatProgress(value=0.0, max=3.0), HTML(value='')))"
      ]
     },
     "metadata": {},
     "output_type": "display_data"
    },
    {
     "data": {
      "application/vnd.jupyter.widget-view+json": {
       "model_id": "",
       "version_major": 2,
       "version_minor": 0
      },
      "text/plain": [
       "HBox(children=(HTML(value=''), FloatProgress(value=0.0, max=3.0), HTML(value='')))"
      ]
     },
     "metadata": {},
     "output_type": "display_data"
    },
    {
     "data": {
      "application/vnd.jupyter.widget-view+json": {
       "model_id": "",
       "version_major": 2,
       "version_minor": 0
      },
      "text/plain": [
       "HBox(children=(HTML(value=''), FloatProgress(value=0.0, max=3.0), HTML(value='')))"
      ]
     },
     "metadata": {},
     "output_type": "display_data"
    },
    {
     "data": {
      "application/vnd.jupyter.widget-view+json": {
       "model_id": "",
       "version_major": 2,
       "version_minor": 0
      },
      "text/plain": [
       "HBox(children=(HTML(value=''), FloatProgress(value=0.0, max=3.0), HTML(value='')))"
      ]
     },
     "metadata": {},
     "output_type": "display_data"
    },
    {
     "data": {
      "application/vnd.jupyter.widget-view+json": {
       "model_id": "",
       "version_major": 2,
       "version_minor": 0
      },
      "text/plain": [
       "HBox(children=(HTML(value=''), FloatProgress(value=0.0, max=3.0), HTML(value='')))"
      ]
     },
     "metadata": {},
     "output_type": "display_data"
    },
    {
     "data": {
      "application/vnd.jupyter.widget-view+json": {
       "model_id": "",
       "version_major": 2,
       "version_minor": 0
      },
      "text/plain": [
       "HBox(children=(HTML(value=''), FloatProgress(value=0.0, max=3.0), HTML(value='')))"
      ]
     },
     "metadata": {},
     "output_type": "display_data"
    },
    {
     "data": {
      "application/vnd.jupyter.widget-view+json": {
       "model_id": "",
       "version_major": 2,
       "version_minor": 0
      },
      "text/plain": [
       "HBox(children=(HTML(value=''), FloatProgress(value=0.0, max=3.0), HTML(value='')))"
      ]
     },
     "metadata": {},
     "output_type": "display_data"
    },
    {
     "data": {
      "application/vnd.jupyter.widget-view+json": {
       "model_id": "727df1fc72874023b88838a118bdb9bf",
       "version_major": 2,
       "version_minor": 0
      },
      "text/plain": [
       "HBox(children=(HTML(value=''), FloatProgress(value=0.0, max=13.0), HTML(value='')))"
      ]
     },
     "metadata": {},
     "output_type": "display_data"
    },
    {
     "name": "stdout",
     "output_type": "stream",
     "text": [
      "\n"
     ]
    },
    {
     "ename": "ValueError",
     "evalue": "operands could not be broadcast together with shapes (790,) (790,64) ",
     "output_type": "error",
     "traceback": [
      "\u001b[0;31m---------------------------------------------------------------------------\u001b[0m",
      "\u001b[0;31mValueError\u001b[0m                                Traceback (most recent call last)",
      "\u001b[0;32m<ipython-input-6-a2eba8102527>\u001b[0m in \u001b[0;36m<module>\u001b[0;34m\u001b[0m\n\u001b[1;32m     74\u001b[0m     \u001b[0mpredictions\u001b[0m \u001b[0;34m=\u001b[0m \u001b[0mpredict\u001b[0m\u001b[0;34m(\u001b[0m\u001b[0mmodel\u001b[0m\u001b[0;34m,\u001b[0m \u001b[0mX_test\u001b[0m\u001b[0;34m,\u001b[0m \u001b[0my_test\u001b[0m\u001b[0;34m)\u001b[0m\u001b[0;34m\u001b[0m\u001b[0;34m\u001b[0m\u001b[0m\n\u001b[1;32m     75\u001b[0m \u001b[0;34m\u001b[0m\u001b[0m\n\u001b[0;32m---> 76\u001b[0;31m     \u001b[0mrmse_score\u001b[0m \u001b[0;34m=\u001b[0m \u001b[0mrmse\u001b[0m\u001b[0;34m(\u001b[0m\u001b[0my_test\u001b[0m\u001b[0;34m,\u001b[0m \u001b[0mpredictions\u001b[0m\u001b[0;34m)\u001b[0m\u001b[0;34m\u001b[0m\u001b[0;34m\u001b[0m\u001b[0m\n\u001b[0m\u001b[1;32m     77\u001b[0m     \u001b[0mmae_score\u001b[0m \u001b[0;34m=\u001b[0m \u001b[0mmae\u001b[0m\u001b[0;34m(\u001b[0m\u001b[0my_test\u001b[0m\u001b[0;34m,\u001b[0m \u001b[0mpredictions\u001b[0m\u001b[0;34m)\u001b[0m\u001b[0;34m\u001b[0m\u001b[0;34m\u001b[0m\u001b[0m\n\u001b[1;32m     78\u001b[0m \u001b[0;31m#     r2_score = r_squared(y_test, predictions)\u001b[0m\u001b[0;34m\u001b[0m\u001b[0;34m\u001b[0m\u001b[0;34m\u001b[0m\u001b[0m\n",
      "\u001b[0;32m~/Desktop/umwpl2021/labs/mldd/metrics.py\u001b[0m in \u001b[0;36mrmse\u001b[0;34m(labels, predictions)\u001b[0m\n\u001b[1;32m      5\u001b[0m \u001b[0;34m\u001b[0m\u001b[0m\n\u001b[1;32m      6\u001b[0m \u001b[0;32mdef\u001b[0m \u001b[0mrmse\u001b[0m\u001b[0;34m(\u001b[0m\u001b[0mlabels\u001b[0m\u001b[0;34m,\u001b[0m \u001b[0mpredictions\u001b[0m\u001b[0;34m)\u001b[0m\u001b[0;34m:\u001b[0m\u001b[0;34m\u001b[0m\u001b[0;34m\u001b[0m\u001b[0m\n\u001b[0;32m----> 7\u001b[0;31m     \u001b[0;32mreturn\u001b[0m \u001b[0mnp\u001b[0m\u001b[0;34m.\u001b[0m\u001b[0msqrt\u001b[0m\u001b[0;34m(\u001b[0m\u001b[0mnp\u001b[0m\u001b[0;34m.\u001b[0m\u001b[0mpower\u001b[0m\u001b[0;34m(\u001b[0m\u001b[0mlabels\u001b[0m \u001b[0;34m-\u001b[0m \u001b[0mpredictions\u001b[0m\u001b[0;34m,\u001b[0m \u001b[0;36m2\u001b[0m\u001b[0;34m)\u001b[0m\u001b[0;34m.\u001b[0m\u001b[0mmean\u001b[0m\u001b[0;34m(\u001b[0m\u001b[0;34m)\u001b[0m\u001b[0;34m)\u001b[0m\u001b[0;34m\u001b[0m\u001b[0;34m\u001b[0m\u001b[0m\n\u001b[0m\u001b[1;32m      8\u001b[0m \u001b[0;34m\u001b[0m\u001b[0m\n\u001b[1;32m      9\u001b[0m \u001b[0;34m\u001b[0m\u001b[0m\n",
      "\u001b[0;31mValueError\u001b[0m: operands could not be broadcast together with shapes (790,) (790,64) "
     ]
    }
   ],
   "source": [
    "import pandas as pd\n",
    "import numpy as np\n",
    "import torch\n",
    "import torch.nn as nn\n",
    "from tqdm.notebook import tqdm, trange\n",
    "from torch.utils.data import TensorDataset, DataLoader\n",
    "from sklearn.model_selection import train_test_split\n",
    "\n",
    "from typing import List, Tuple\n",
    "\n",
    "from mldd.metrics import mae, rmse, rocauc, r_squared\n",
    "from mldd.data import *\n",
    "\n",
    "def train(X_train, y_train, X_valid, y_valid):\n",
    "    # hyperparameters definition\n",
    "    hidden_size = 512\n",
    "    epochs = 50\n",
    "    batch_size = 64\n",
    "    learning_rate = 0.0001\n",
    "    # model preparation\n",
    "    model = nn.Sequential(nn.ReLU(),\n",
    "                          nn.Softmax(dim=1),\n",
    "                          nn.Linear(512, 64))\n",
    "                          \n",
    "    model.train()\n",
    "\n",
    "    # data preparation\n",
    "    dataset = TensorDataset(torch.FloatTensor(X_train.float()), torch.FloatTensor(y_train.float().reshape(-1, 1)))\n",
    "    #dataset = TensorDataset(torch.FloatTensor(X_train), torch.FloatTensor(y_train))\n",
    "    loader = DataLoader(dataset, batch_size=batch_size, shuffle=True)\n",
    "    \n",
    "    # training loop\n",
    "    optimizer = torch.optim.SGD(model.parameters(), lr=0.1, momentum=0.9)\n",
    "    loss_fn = nn.MSELoss()\n",
    "    for epoch in trange(1, epochs + 1, leave=False):\n",
    "        for X, y in tqdm(loader, leave=False):\n",
    "            model.zero_grad()\n",
    "            preds = model(X)\n",
    "            loss = loss_fn(preds,y)\n",
    "            loss.backward()\n",
    "            optimizer.step()\n",
    "    return model\n",
    "\n",
    "\n",
    "def predict(model, X_test, y_test):\n",
    "    # hyperparameters definition\n",
    "    # (but this doesn't change the training results, it's only to optimize the eval speed)\n",
    "    batch_size = 64\n",
    "\n",
    "    # data preparation\n",
    "    dataset = TensorDataset(torch.FloatTensor(X_test.float()), torch.FloatTensor(y_test.float().reshape(-1, 1)))\n",
    "    loader = DataLoader(dataset, batch_size=batch_size, shuffle=False)\n",
    "    \n",
    "    # evaluation loop\n",
    "    preds_batches = []\n",
    "    with torch.no_grad():\n",
    "        for X, Y in tqdm(loader):\n",
    "            preds = model(X)\n",
    "            preds_batches.append(preds.cpu().detach().numpy())\n",
    "    preds = np.concatenate(preds_batches)\n",
    "    return preds\n",
    "\n",
    "X_train, X_test, y_train, y_test = train_test_split(X, Y, test_size=0.7, random_state=123)\n",
    "X_train, X_valid, y_train, y_valid = train_test_split(X_train, y_train, test_size=0.5, random_state=123)\n",
    "print(torch.FloatTensor(y_test.float()))\n",
    "print(y_test.type())\n",
    "\n",
    "for _ in range(X_train.shape[0]):\n",
    "        \n",
    "    # training\n",
    "    model = train(X_train, y_train, X_valid, y_valid)\n",
    "    \n",
    "    # evaluation\n",
    "    predictions = predict(model, X_test, y_test)\n",
    "    \n",
    "    rmse_score = rmse(y_test, predictions)\n",
    "    mae_score = mae(y_test, predictions)\n",
    "#     r2_score = r_squared(y_test, predictions)\n",
    "    scores.append([rmse_score, mae_score])\n",
    "    \n",
    "    break  # can be removed to get results on all folds\n",
    "scores = np.array(scores)\n",
    "print('RMSE, MAE = ' + \\\n",
    "      ', '.join(f'{mean:.2f}±{std:.3f}' for mean, std in zip(scores.mean(axis=0), scores.std(axis=0))))\n",
    "\n",
    "print(predictions)\n"
   ]
  },
  {
   "cell_type": "code",
   "execution_count": null,
   "metadata": {},
   "outputs": [],
   "source": []
  }
 ],
 "metadata": {
  "kernelspec": {
   "display_name": "Python 3",
   "language": "python",
   "name": "python3"
  },
  "language_info": {
   "codemirror_mode": {
    "name": "ipython",
    "version": 3
   },
   "file_extension": ".py",
   "mimetype": "text/x-python",
   "name": "python",
   "nbconvert_exporter": "python",
   "pygments_lexer": "ipython3",
   "version": "3.8.5"
  }
 },
 "nbformat": 4,
 "nbformat_minor": 4
}
